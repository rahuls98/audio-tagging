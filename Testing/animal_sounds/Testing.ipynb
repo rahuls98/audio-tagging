{
 "cells": [
  {
   "cell_type": "markdown",
   "metadata": {},
   "source": [
    "### Preprocessing audio"
   ]
  },
  {
   "cell_type": "code",
   "execution_count": 1,
   "metadata": {},
   "outputs": [],
   "source": [
    "import librosa\n",
    "import numpy as np\n",
    "import pandas as pd\n",
    "import librosa.display\n",
    "import matplotlib as mpl\n",
    "import matplotlib.pyplot as plt\n",
    "import os\n",
    "from os import listdir\n",
    "from os.path import isfile, join,split"
   ]
  },
  {
   "cell_type": "code",
   "execution_count": 2,
   "metadata": {},
   "outputs": [
    {
     "data": {
      "text/plain": [
       "['Cat3.wav',\n",
       " 'Birds3.wav',\n",
       " 'Birds2.wav',\n",
       " 'Cow1.wav',\n",
       " 'Cat2.wav',\n",
       " 'Cow3.wav',\n",
       " 'Birds1.wav',\n",
       " 'Cow2.wav',\n",
       " 'Cat1.wav',\n",
       " 'Frog1.wav',\n",
       " 'Frog2.wav',\n",
       " 'Frog3.wav',\n",
       " 'Dog1.wav',\n",
       " 'Dog2.wav',\n",
       " 'Dog3.wav']"
      ]
     },
     "execution_count": 2,
     "metadata": {},
     "output_type": "execute_result"
    }
   ],
   "source": [
    "INPUT_AUDIO = os.listdir('./samples')\n",
    "INPUT_AUDIO.remove('.DS_Store')\n",
    "INPUT_AUDIO"
   ]
  },
  {
   "cell_type": "code",
   "execution_count": 3,
   "metadata": {},
   "outputs": [],
   "source": [
    "OUTPUT_IMG = \"./images/\""
   ]
  },
  {
   "cell_type": "code",
   "execution_count": 4,
   "metadata": {},
   "outputs": [],
   "source": [
    "class config:\n",
    "    sampling_rate = 22050\n",
    "    duration = 5\n",
    "    samples = sampling_rate * duration\n",
    "    top_db = 60\n",
    "    fmin = 20\n",
    "    fmax =  sampling_rate // 2\n",
    "    # Spectrogram parameters\n",
    "    n_mels = 96\n",
    "    n_fft = 512\n",
    "    hop_length = 256"
   ]
  },
  {
   "cell_type": "code",
   "execution_count": 5,
   "metadata": {},
   "outputs": [],
   "source": [
    "def getUnifiedLength(y):\n",
    "    if len(y) > config.samples: \n",
    "        y = y[0:0+config.samples]\n",
    "    else: \n",
    "        y = np.pad(y, (0, config.samples - len(y)), 'constant')\n",
    "    return y"
   ]
  },
  {
   "cell_type": "code",
   "execution_count": 6,
   "metadata": {},
   "outputs": [],
   "source": [
    "def full_frame(width=None, height=None):\n",
    "    mpl.rcParams['savefig.pad_inches'] = 0\n",
    "    figsize = None if width is None else (width, height)\n",
    "    fig = plt.figure(figsize=figsize)\n",
    "    ax = plt.axes([0,0,1,1], frameon=False)\n",
    "    ax.get_xaxis().set_visible(False)\n",
    "    ax.get_yaxis().set_visible(False)\n",
    "    plt.autoscale(tight=True)"
   ]
  },
  {
   "cell_type": "code",
   "execution_count": 7,
   "metadata": {},
   "outputs": [
    {
     "name": "stdout",
     "output_type": "stream",
     "text": [
      "15\n"
     ]
    }
   ],
   "source": [
    "c = 0\n",
    "for f in INPUT_AUDIO:\n",
    "    file = join('./samples/',f)\n",
    "    if not isfile(file):\n",
    "        continue\n",
    "\n",
    "    c += 1\n",
    "    filename = split(file)[1]\n",
    "    #print(\"Processing audio file:\", filename.split('.')[0])\n",
    "    x,sr = librosa.load(file, sr=44100)\n",
    "    x, _ = librosa.effects.trim(x)\n",
    "    x = getUnifiedLength(x)\n",
    "    spectrogram = librosa.feature.melspectrogram(x,\n",
    "                                                sr=config.sampling_rate,\n",
    "                                                n_mels=config.n_mels,\n",
    "                                                hop_length=config.hop_length,\n",
    "                                                n_fft=config.n_fft,\n",
    "                                                fmin=config.fmin,\n",
    "                                                fmax=config.fmax)\n",
    "    logmel = librosa.power_to_db(spectrogram, ref=np.max)\n",
    "    fig = plt.figure()\n",
    "    full_frame(15, 10)\n",
    "    librosa.display.specshow(logmel, sr=config.sampling_rate, hop_length=config.hop_length, x_axis='time', y_axis='mel')\n",
    "    filename = filename.split('.')[0] + '.png'\n",
    "    plt.savefig(join(OUTPUT_IMG,filename))\n",
    "    plt.close(fig)\n",
    "    plt.close('all')\n",
    "\n",
    "print(c)"
   ]
  },
  {
   "cell_type": "markdown",
   "metadata": {},
   "source": [
    "### Animal-sVGGNet"
   ]
  },
  {
   "cell_type": "code",
   "execution_count": 8,
   "metadata": {},
   "outputs": [
    {
     "name": "stderr",
     "output_type": "stream",
     "text": [
      "Using TensorFlow backend.\n"
     ]
    }
   ],
   "source": [
    "import keras\n",
    "from keras.preprocessing.image import img_to_array\n",
    "from keras.models import load_model\n",
    "import numpy as np\n",
    "import pickle\n",
    "import cv2\n",
    "import os"
   ]
  },
  {
   "cell_type": "code",
   "execution_count": 9,
   "metadata": {},
   "outputs": [],
   "source": [
    "mlb = pickle.loads(open('./AS_VGGN.pickle', \"rb\").read())\n",
    "model = load_model('./AnimalSounds_SmallerVGGNet.h5')"
   ]
  },
  {
   "cell_type": "code",
   "execution_count": 10,
   "metadata": {},
   "outputs": [
    {
     "data": {
      "text/plain": [
       "['Dog3.png',\n",
       " '.DS_Store',\n",
       " 'Dog2.png',\n",
       " 'Dog1.png',\n",
       " 'Birds1.png',\n",
       " 'Cow2.png',\n",
       " 'Cat1.png',\n",
       " 'Cow3.png',\n",
       " 'Birds2.png',\n",
       " 'Cow1.png',\n",
       " 'Cat2.png',\n",
       " 'Cat3.png',\n",
       " 'Birds3.png',\n",
       " 'Frog3.png',\n",
       " 'Frog2.png',\n",
       " 'Frog1.png']"
      ]
     },
     "execution_count": 10,
     "metadata": {},
     "output_type": "execute_result"
    }
   ],
   "source": [
    "os.listdir('./images/')"
   ]
  },
  {
   "cell_type": "markdown",
   "metadata": {},
   "source": [
    "### Testing"
   ]
  },
  {
   "cell_type": "markdown",
   "metadata": {},
   "source": [
    "#### Case 1"
   ]
  },
  {
   "cell_type": "code",
   "execution_count": 11,
   "metadata": {},
   "outputs": [
    {
     "data": {
      "text/plain": [
       "(1, 150, 200, 3)"
      ]
     },
     "execution_count": 11,
     "metadata": {},
     "output_type": "execute_result"
    }
   ],
   "source": [
    "image = cv2.imread('./images/Cow3.png')\n",
    "\n",
    "# pre-process the image for classification\n",
    "image = cv2.resize(image, (200, 150))\n",
    "image = image.astype(\"float\") / 255.0\n",
    "image = img_to_array(image)\n",
    "image = np.expand_dims(image, axis=0)\n",
    "image.shape"
   ]
  },
  {
   "cell_type": "code",
   "execution_count": 12,
   "metadata": {},
   "outputs": [
    {
     "data": {
      "text/plain": [
       "array([['Cow', 'Dog', 'Chirping birds']], dtype=object)"
      ]
     },
     "execution_count": 12,
     "metadata": {},
     "output_type": "execute_result"
    }
   ],
   "source": [
    "proba = model.predict(image)\n",
    "top_3 = mlb.classes_[np.argsort(-proba, axis=1)[:, :3]]\n",
    "top_3"
   ]
  },
  {
   "cell_type": "markdown",
   "metadata": {},
   "source": [
    "#### Case 2"
   ]
  },
  {
   "cell_type": "code",
   "execution_count": 13,
   "metadata": {},
   "outputs": [
    {
     "data": {
      "text/plain": [
       "(1, 150, 200, 3)"
      ]
     },
     "execution_count": 13,
     "metadata": {},
     "output_type": "execute_result"
    }
   ],
   "source": [
    "image2 = cv2.imread('./images/Birds1.png')\n",
    "\n",
    "# pre-process the image for classification\n",
    "image2 = cv2.resize(image2, (200, 150))\n",
    "image2 = image2.astype(\"float\") / 255.0\n",
    "image2 = img_to_array(image2)\n",
    "image2 = np.expand_dims(image2, axis=0)\n",
    "image2.shape"
   ]
  },
  {
   "cell_type": "code",
   "execution_count": 14,
   "metadata": {},
   "outputs": [
    {
     "data": {
      "text/plain": [
       "array([['Chirping birds', 'Frog', 'Rooster']], dtype=object)"
      ]
     },
     "execution_count": 14,
     "metadata": {},
     "output_type": "execute_result"
    }
   ],
   "source": [
    "proba2 = model.predict(image2)\n",
    "top_3_2 = mlb.classes_[np.argsort(-proba2, axis=1)[:, :3]]\n",
    "top_3_2"
   ]
  }
 ],
 "metadata": {
  "kernelspec": {
   "display_name": "Python 3",
   "language": "python",
   "name": "python3"
  },
  "language_info": {
   "codemirror_mode": {
    "name": "ipython",
    "version": 3
   },
   "file_extension": ".py",
   "mimetype": "text/x-python",
   "name": "python",
   "nbconvert_exporter": "python",
   "pygments_lexer": "ipython3",
   "version": "3.7.2"
  }
 },
 "nbformat": 4,
 "nbformat_minor": 2
}
